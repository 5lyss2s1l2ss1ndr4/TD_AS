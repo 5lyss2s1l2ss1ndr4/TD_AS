{
 "cells": [
  {
   "cell_type": "markdown",
   "id": "012bb254",
   "metadata": {},
   "source": [
    "### Trabalho Disciplinar Arquiteturas de Software"
   ]
  },
  {
   "cell_type": "code",
   "execution_count": 11,
   "id": "f1a14785",
   "metadata": {},
   "outputs": [
    {
     "name": "stdout",
     "output_type": "stream",
     "text": [
      "Digite seu Salário Bruto R$:8000\n",
      "Digite o quantitativo de dependentes para IRPF:2\n"
     ]
    }
   ],
   "source": [
    "salario_bruto = float(input(\"Digite seu Salário Bruto R$:\"))\n",
    "qtd_dependente = float(input(\"Digite o quantitativo de dependentes para IRPF:\"))\n",
    "\n",
    "FGTS = salario_bruto * (8/100) \n",
    "\n",
    "if salario_bruto <= 1302.00:\n",
    "    AA = salario_bruto * (7.5/100)\n",
    "    AE = salario_bruto * (7.5/100)\n",
    "elif 1302.01 <= salario_bruto <= 2571.29:\n",
    "    AA = salario_bruto * (9/100)\n",
    "    AE = salario_bruto * (7.5/100)\n",
    "elif 2571.30 <= salario_bruto <= 3856.94:\n",
    "    AA = salario_bruto * (12/100)\n",
    "    AE = salario_bruto * (8.25/100)\n",
    "elif 3856.95 <= salario_bruto <= 7507.49:\n",
    "    AA = salario_bruto * (14/100)\n",
    "    AE = salario_bruto * (9.5/100)\n",
    "elif salario_bruto > 7507.49:\n",
    "    AA = 877.25\n",
    "    AE = 877.25\n",
    "    "
   ]
  },
  {
   "cell_type": "code",
   "execution_count": 12,
   "id": "84d8bca3",
   "metadata": {},
   "outputs": [],
   "source": [
    "if 0 <= salario_bruto <= 1903.98:\n",
    "    IRPF = (salario_bruto - AA) * 0\n",
    "elif 1903.99 <= salario_bruto <= 2826.65:\n",
    "    IRPF = (salario_bruto - AA) * (7.5/100)\n",
    "elif 2826.66 <= salario_bruto <= 3751.05:\n",
    "    IRPF = (salario_bruto - AA) * (15/100)\n",
    "elif 3751.06 <= salario_bruto <= 4664.68:\n",
    "    IRPF = (salario_bruto - AA) * (22.50/100)\n",
    "elif salario_bruto > 4664.68:\n",
    "    IRPF = (salario_bruto - AA) * (27.50/100)\n",
    "    "
   ]
  },
  {
   "cell_type": "code",
   "execution_count": 13,
   "id": "0426557d",
   "metadata": {},
   "outputs": [
    {
     "name": "stdout",
     "output_type": "stream",
     "text": [
      "R$8000.0\n",
      "Seu FGTS é: R$640.0\n",
      "Alíquota Aplicada é: R$877.25\n",
      "Alíquota Efetiva é: R$877.25\n",
      "R$7122.75\n",
      "R$1,958.76\n",
      "Seu IRPF é: R$710.22\n",
      "Seu Salário Líquido é: R$5,163.99\n"
     ]
    }
   ],
   "source": [
    "dependente = 189.59\n",
    "\n",
    "if 0 <= salario_bruto <= 1903.98:\n",
    "    deducao = 0\n",
    "elif 1903.99 <= salario_bruto <= 2826.65:\n",
    "    deducao = 142.80\n",
    "elif 2826.66 <= salario_bruto <= 3751.05:\n",
    "    deducao = 354.80\n",
    "elif 3751.06 <= salario_bruto <= 4664.68:\n",
    "    deducao = 636.13\n",
    "elif salario_bruto > 4664.68:\n",
    "    deducao = 869.36\n",
    "\n",
    "print(f\"R${salario_bruto}\")\n",
    "print(f\"Seu FGTS é: R${FGTS}\")\n",
    "print(f\"Alíquota Aplicada é: R${AA}\")\n",
    "print(f\"Alíquota Efetiva é: R${AE}\")\n",
    "print(f\"R${salario_bruto - AA}\")\n",
    "print(f\"R${IRPF:,.2f}\")\n",
    "print(f\"Seu IRPF é: R${IRPF - deducao - (qtd_dependente * dependente):,.2f}\")\n",
    "print(f\"Seu Salário Líquido é: R${salario_bruto - (AA + IRPF):,.2f}\")\n"
   ]
  }
 ],
 "metadata": {
  "kernelspec": {
   "display_name": "Python 3 (ipykernel)",
   "language": "python",
   "name": "python3"
  },
  "language_info": {
   "codemirror_mode": {
    "name": "ipython",
    "version": 3
   },
   "file_extension": ".py",
   "mimetype": "text/x-python",
   "name": "python",
   "nbconvert_exporter": "python",
   "pygments_lexer": "ipython3",
   "version": "3.9.13"
  }
 },
 "nbformat": 4,
 "nbformat_minor": 5
}
